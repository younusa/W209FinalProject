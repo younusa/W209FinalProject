{
 "cells": [
  {
   "cell_type": "code",
   "execution_count": null,
   "metadata": {
    "collapsed": false
   },
   "outputs": [],
   "source": [
    "import json\n",
    "f=open('data_with_similarity_scores.json','r')\n",
    "data=json.load(f)"
   ]
  },
  {
   "cell_type": "code",
   "execution_count": 275,
   "metadata": {
    "collapsed": false
   },
   "outputs": [
    {
     "name": "stdout",
     "output_type": "stream",
     "text": [
      "3M\n"
     ]
    },
    {
     "data": {
      "text/plain": [
       "[1]"
      ]
     },
     "execution_count": 275,
     "metadata": {},
     "output_type": "execute_result"
    }
   ],
   "source": [
    "#3M\n",
    "b=[]\n",
    "for d in data:\n",
    "    if d[\"brands\"]=='3M' or \"3M\" in d[\"brands\"]:\n",
    "#         d[\"logo\"]=\"3M.png\"\n",
    "        print(d[\"brands\"])\n",
    "        b.append(1)\n",
    "b"
   ]
  },
  {
   "cell_type": "code",
   "execution_count": 278,
   "metadata": {
    "collapsed": false
   },
   "outputs": [
    {
     "name": "stdout",
     "output_type": "stream",
     "text": [
      "Auchan,Auchan beauty\n",
      "Auchan\n",
      "Auchan\n",
      "Pouce,Auchan\n",
      "Auchan\n",
      "Auchan,Baby,Auchan Baby\n",
      "Auchan\n",
      "Auchan\n",
      "Rik & Rok,Auchan\n",
      "Auchan\n",
      "Auchan\n",
      "Auchan\n",
      "Auchan\n",
      "Auchan\n",
      "Auchan\n",
      "Auchan\n",
      "Auchan\n",
      "Auchan\n",
      "Auchan\n",
      "Auchan,Auchan Beauty Kids\n",
      "Auchan,Auchan Beauty\n",
      "Auchan\n",
      "Auchan\n",
      "Auchan\n",
      "Auchan\n",
      "Auchan\n",
      "Auchan\n",
      "Auchan\n",
      "Pouce,Auchan\n",
      "Auchan,Auchan beauty\n",
      "Auchan\n",
      "Auchan\n",
      "Auchan\n",
      "Pouce,Auchan\n",
      "Auchan\n",
      "Auchan\n",
      "Auchan Baby,Auchan\n",
      "Auchan\n",
      "auchan\n"
     ]
    },
    {
     "data": {
      "text/plain": [
       "39"
      ]
     },
     "execution_count": 278,
     "metadata": {},
     "output_type": "execute_result"
    }
   ],
   "source": [
    "#auchan\n",
    "b=[]\n",
    "for d in data:\n",
    "    if d[\"brands\"]==\"Auchan\" or d[\"brands\"].startswith('Auchan') or \"Auchan\" in d[\"brands\"]\\\n",
    "    or \"auchan\" in d[\"brands\"]:\n",
    "        d[\"logo\"]=\"auchan.png\"\n",
    "        print(d[\"brands\"])\n",
    "        b.append(1)\n",
    "sum(b)"
   ]
  },
  {
   "cell_type": "code",
   "execution_count": 281,
   "metadata": {
    "collapsed": false
   },
   "outputs": [
    {
     "name": "stdout",
     "output_type": "stream",
     "text": [
      "Axe Dry\n",
      "Axe\n",
      "Axe\n",
      "Axe,Unilever\n",
      "Axe\n",
      "Axe,Unilever\n",
      "Axe,Unilever\n",
      "Axe,Unilever\n",
      "Axe\n",
      "Axe,Unilever\n",
      "Axe,Unilever\n",
      "Axe,Unilever\n",
      "Axe,Unilever\n",
      "Axe,Unilever\n",
      "Axe,Unilever\n",
      "Unilever,Axe\n",
      "Axe\n",
      "Axe,Unilever\n",
      "Axe,Unilever\n",
      "Axe,Unilever\n",
      "Axe,Unilever\n"
     ]
    },
    {
     "data": {
      "text/plain": [
       "21"
      ]
     },
     "execution_count": 281,
     "metadata": {},
     "output_type": "execute_result"
    }
   ],
   "source": [
    "#axe\n",
    "b=[]\n",
    "for d in data:\n",
    "    if d[\"brands\"]==\"Axe\" or d[\"brands\"].startswith('Axe') or \"Axe\" in d[\"brands\"]\\\n",
    "    or \"axe\" in d[\"brands\"]:\n",
    "        d[\"logo\"]=\"axe.png\"\n",
    "        print(d[\"brands\"])\n",
    "        b.append(1)\n",
    "sum(b)"
   ]
  },
  {
   "cell_type": "code",
   "execution_count": 285,
   "metadata": {
    "collapsed": false
   },
   "outputs": [
    {
     "name": "stdout",
     "output_type": "stream",
     "text": [
      "Ecoute ta nature ! by Yannick Noah,Bourjois\n",
      "Bourjois\n",
      "Bourjois\n",
      "Bourjois,Bourjois Paris\n",
      "Bourjois,Bourjois Paris\n",
      "Bourjois\n",
      "Bourjois\n",
      "Bourjois,Bourjois Paris\n",
      "Bourjois\n",
      "Bourjois\n",
      "Bourjois\n",
      "Bourjois\n",
      "Bourjois,Bourjois Paris,Clin d'oeil,Silver dream\n",
      "Bourjois\n",
      "Bourjois\n"
     ]
    },
    {
     "data": {
      "text/plain": [
       "15"
      ]
     },
     "execution_count": 285,
     "metadata": {},
     "output_type": "execute_result"
    }
   ],
   "source": [
    "#bourjois\n",
    "b=[]\n",
    "for d in data:\n",
    "    if d[\"brands\"]==\"Bourjois\" or d[\"brands\"].startswith('Bourjois') or \"Bourjois\" in d[\"brands\"]\\\n",
    "    or \"bourjois\" in d[\"brands\"]:\n",
    "        d[\"logo\"]=\"bourjois.png\"\n",
    "        print(d[\"brands\"])\n",
    "        b.append(1)\n",
    "sum(b)"
   ]
  },
  {
   "cell_type": "code",
   "execution_count": 287,
   "metadata": {
    "collapsed": false
   },
   "outputs": [
    {
     "name": "stdout",
     "output_type": "stream",
     "text": [
      "Cadum,LaSCAD,L'Oreal\n",
      "Cadum\n",
      "Cadum\n",
      "Cadum\n",
      "Bébé Cadum,Cadum,Lascad\n",
      "Cadum\n",
      "Cadum\n",
      "Cadum\n",
      "Cadum\n",
      "Cadum\n",
      "Cadum,Bébé Cadum,LASCAD,Merveille de miel\n",
      "Bébé Cadum,Cadum,LASCAD,Merveille de miel\n",
      "Bébé cadum,Cadum,Merveille de miel,LASCAD\n",
      "Cadum\n",
      "Bébé Cadum\n"
     ]
    },
    {
     "data": {
      "text/plain": [
       "15"
      ]
     },
     "execution_count": 287,
     "metadata": {},
     "output_type": "execute_result"
    }
   ],
   "source": [
    "#cadum\n",
    "b=[]\n",
    "for d in data:\n",
    "    if d[\"brands\"]==\"Cadum\" or d[\"brands\"].startswith('Cadum') or \"Cadum\" in d[\"brands\"]\\\n",
    "    or \"cadum\" in d[\"brands\"]:\n",
    "        d[\"logo\"]=\"cadum.png\"\n",
    "        print(d[\"brands\"])\n",
    "        b.append(1)\n",
    "sum(b)"
   ]
  },
  {
   "cell_type": "code",
   "execution_count": 291,
   "metadata": {
    "collapsed": false
   },
   "outputs": [
    {
     "name": "stdout",
     "output_type": "stream",
     "text": [
      "Carrefour\n",
      "Carrefour\n",
      "Carrefour\n",
      "Carrefour Bio,Carrefour\n",
      "Carrefour\n",
      "Carrefour\n",
      "Carrefour\n",
      "Carrefour\n",
      "Carrefour\n",
      "Carrefour\n",
      "Carrefour\n",
      "Carrefour\n",
      "Carrefour\n",
      "Carrefour\n",
      "Carrefour\n",
      "Carrefour\n",
      "Carrefour\n",
      "Carrefour\n",
      "Carrefour\n",
      "Carrefour\n",
      "Carrefour\n",
      "Carrefour\n",
      "Carrefour\n",
      "Carrefour\n",
      "Carrefour\n",
      "Carrefour\n",
      "Carrefour\n",
      "Carrefour\n",
      "Carrefour\n",
      "Carrefour\n",
      "Carrefour\n",
      "Carrefour,Kapa Reynolds\n",
      "Carrefour\n",
      "Carrefour\n",
      "Carrefour\n",
      "Carrefour\n",
      "Carrefour Kids,Carrefour\n",
      "Carrefour Kids,Carrefour\n",
      "Carrefour\n",
      "Carrefour\n",
      "Carrefour\n",
      "Carrefour\n",
      "Carrefour\n",
      "Carrefour\n",
      "Carrefour\n",
      "Carrefour Men\n",
      "Carrefour\n",
      "Carrefour,Carrefour men\n",
      "Carrefour\n",
      "Carrefour\n",
      "Carrefour\n",
      "Carrefour\n",
      "Carrefour\n",
      "Carrefour\n",
      "Carrefour\n",
      "Carrefour\n",
      "Carrefour\n",
      "Carrefour Baby,Carrefour\n",
      "Carrefour Baby,Carrefour\n",
      "Carrefour Baby,Carrefour\n",
      "Les Cosmétiques,Champion,Carrefour\n",
      "Les Cosmétiques,Carrefour\n",
      "Carrefour\n",
      "Carrefour Baby,Carrefour\n",
      "Carrefour\n",
      "Carrefour\n",
      "Carrefour\n",
      "Carrefour\n"
     ]
    },
    {
     "data": {
      "text/plain": [
       "68"
      ]
     },
     "execution_count": 291,
     "metadata": {},
     "output_type": "execute_result"
    }
   ],
   "source": [
    "#carrefour\n",
    "b=[]\n",
    "for d in data:\n",
    "    if d[\"brands\"]==\"Carrefour\" or d[\"brands\"].startswith('Carrefour') or \"Carrefour\" in d[\"brands\"]\\\n",
    "    or \"carrefour\" in d[\"brands\"]:\n",
    "        d[\"logo\"]=\"carrefour.png\"\n",
    "        print(d[\"brands\"])\n",
    "        b.append(1)\n",
    "sum(b)"
   ]
  },
  {
   "cell_type": "code",
   "execution_count": 296,
   "metadata": {
    "collapsed": false
   },
   "outputs": [
    {
     "name": "stdout",
     "output_type": "stream",
     "text": [
      "Cattier\n",
      "Cattier\n",
      "Cattier\n",
      "Cattier\n",
      "Cattier\n",
      "Cattier\n",
      "Cattier\n",
      "Cattier\n",
      "Cattier\n",
      "Cattier\n",
      "Cattier\n",
      "Cattier\n"
     ]
    },
    {
     "data": {
      "text/plain": [
       "12"
      ]
     },
     "execution_count": 296,
     "metadata": {},
     "output_type": "execute_result"
    }
   ],
   "source": [
    "#cattier\n",
    "b=[]\n",
    "for d in data:\n",
    "    if d[\"brands\"]==\"Cattier\" or d[\"brands\"].startswith('Cattier') or \"Cattier\" in d[\"brands\"] \\\n",
    "    or \"cattier\" in d[\"brands\"]:\n",
    "        d[\"logo\"]=\"cattier.png\"\n",
    "        print(d[\"brands\"])\n",
    "        b.append(1)\n",
    "sum(b)"
   ]
  },
  {
   "cell_type": "code",
   "execution_count": 300,
   "metadata": {
    "collapsed": false
   },
   "outputs": [
    {
     "name": "stdout",
     "output_type": "stream",
     "text": [
      "Cien\n",
      "Cien\n",
      "Cien\n",
      "Cien\n",
      "Cien\n",
      "Cien\n",
      "Cien\n",
      "Cien Men,Cien\n",
      "Cien Men,Cien\n",
      "Cien\n",
      "Cien\n",
      "Cien,Lidl\n",
      "Cien\n",
      "Cien\n",
      "Cien\n",
      "Cien\n",
      "Cien\n",
      "Cien\n",
      "Cien,Lidl\n",
      "Cien Men,Cien\n",
      "Cien\n",
      "Cien\n",
      "Cien\n",
      "Cien\n"
     ]
    },
    {
     "data": {
      "text/plain": [
       "24"
      ]
     },
     "execution_count": 300,
     "metadata": {},
     "output_type": "execute_result"
    }
   ],
   "source": [
    "# cien\n",
    "b=[]\n",
    "for d in data:\n",
    "    if d[\"brands\"]==\"Cien\" or d[\"brands\"].startswith('Cien') or \"Cien\" in d[\"brands\"]:\n",
    "        d[\"logo\"]=\"cien.png\"\n",
    "        print(d[\"brands\"])\n",
    "        b.append(1)\n",
    "sum(b)"
   ]
  },
  {
   "cell_type": "code",
   "execution_count": 308,
   "metadata": {
    "collapsed": false
   },
   "outputs": [
    {
     "name": "stdout",
     "output_type": "stream",
     "text": [
      "Palmolive men,Palmolive,Colgate-Palmolive\n",
      "Palmolive,Colgate-Palmolive\n",
      "Palmolive,Colgate-Palmolive\n",
      "Palmolive,Colgate-Palmolive\n",
      "Colgate\n",
      "Colgate\n",
      "Colgate\n",
      "Colgate\n",
      "Colgate\n",
      "Colgate\n",
      "Sanex Advanced,Sanex,Colgate-Palmolive\n",
      "Tahiti,Palmolive,Colgate,Colgate-Palmolive\n",
      "Colgate\n",
      "Tahiti Kids,Tahiti,Palmolive,Colgate-Palmolive\n",
      "Sanex Advanced,Sanex,Colgate-Palmolive\n",
      "Sanex,Colgate-Palmolive\n",
      "Sanex,Colgate-Palmolive\n",
      "Sanex,Colgate-Palmolive\n",
      "Tahiti,Palmolive,Colgate-Palmolive\n",
      "Colgate\n",
      "Colgate\n",
      "Colgate,Ultra Brite\n",
      "Sanex,Colgate-Palmolive\n",
      "Colgate\n",
      "Elmex,Gaba,Colgate-Palmolive\n",
      "Sanex,Colgate-Palmolive\n",
      "Colgate,Colgate Plax,Colgate-Palmolive\n",
      "Elmex,Gaba,Colgate-Palmolive\n",
      "Colgate,Colgate Total\n",
      "Elmex,Colgate-Palmolive,Gaba\n",
      "Colgate\n",
      "Elmex,Colgate-Palmolive\n",
      "Colgate\n",
      "Colgate\n",
      "Sanex,Colgate-Palmolive\n",
      "Sanex,Sanex Men,Colgate-Palmolive\n",
      "Colgate,Colgate-Palmolive\n",
      "Colgate\n"
     ]
    },
    {
     "data": {
      "text/plain": [
       "38"
      ]
     },
     "execution_count": 308,
     "metadata": {},
     "output_type": "execute_result"
    }
   ],
   "source": [
    "# colgate\n",
    "b=[]\n",
    "for d in data:\n",
    "    if d[\"brands\"]==\"Colgate\" or d[\"brands\"].startswith('Colgate') or \"Colgate\" in d[\"brands\"] \\\n",
    "    or \"colgate\" in d[\"brands\"] and \"Colgate-Palmolive\" not in d[\"brands\"]:\n",
    "        d[\"logo\"]=\"colgate.png\"\n",
    "        print(d[\"brands\"])\n",
    "        b.append(1)\n",
    "sum(b)"
   ]
  },
  {
   "cell_type": "code",
   "execution_count": 311,
   "metadata": {
    "collapsed": false
   },
   "outputs": [
    {
     "name": "stdout",
     "output_type": "stream",
     "text": [
      "Cora\n",
      "Cora\n",
      "Cora\n",
      "Cora\n",
      "Cora\n",
      "Cora\n",
      "Cora\n",
      "Cora\n",
      "Cora\n",
      "Cora\n",
      "Cora\n",
      "Cora\n",
      "Cora\n",
      "Cora\n",
      "Cora\n",
      "Cora,Nature bio\n",
      "cora\n",
      "Cora\n",
      "Cora\n",
      "Cora\n",
      "Cora\n",
      "Cora\n",
      "Cora\n"
     ]
    },
    {
     "data": {
      "text/plain": [
       "23"
      ]
     },
     "execution_count": 311,
     "metadata": {},
     "output_type": "execute_result"
    }
   ],
   "source": [
    "#cora\n",
    "b=[]\n",
    "for d in data:\n",
    "    if d[\"brands\"]==\"Cora\" or d[\"brands\"].startswith('Cora') or \"Cora\" in d[\"brands\"] \\\n",
    "    or \"cora\" in d[\"brands\"]:\n",
    "        d[\"logo\"]=\"cora.png\"\n",
    "        print(d[\"brands\"])\n",
    "        b.append(1)\n",
    "sum(b)"
   ]
  },
  {
   "cell_type": "code",
   "execution_count": 314,
   "metadata": {
    "collapsed": false
   },
   "outputs": [
    {
     "name": "stdout",
     "output_type": "stream",
     "text": [
      "Dermaclay\n",
      "Dermaclay\n",
      "Dermaclay\n",
      "Dermaclay\n",
      "Dermaclay\n",
      "Dermaclay,Dermaclay Junior\n",
      "Dermaclay\n",
      "Dermaclay Junior\n",
      "Dermaclay\n",
      "Dermaclay\n",
      "Dermaclay\n",
      "Dermaclay\n"
     ]
    },
    {
     "data": {
      "text/plain": [
       "12"
      ]
     },
     "execution_count": 314,
     "metadata": {},
     "output_type": "execute_result"
    }
   ],
   "source": [
    "#dermaclay\n",
    "b=[]\n",
    "for d in data:\n",
    "    if d[\"brands\"]==\"Dermaclay\" or d[\"brands\"].startswith('Dermaclay') or \"dermaclay\" in d[\"brands\"] \\\n",
    "    or \"Dermaclay\" in d[\"brands\"]:\n",
    "        d[\"logo\"]=\"dermaclay.png\"\n",
    "        print(d[\"brands\"])\n",
    "        b.append(1)\n",
    "sum(b)"
   ]
  },
  {
   "cell_type": "code",
   "execution_count": 316,
   "metadata": {
    "collapsed": false
   },
   "outputs": [
    {
     "name": "stdout",
     "output_type": "stream",
     "text": [
      "Dessange\n",
      "Dessange\n",
      "Dessange\n",
      "Dessange\n",
      "Dessange\n",
      "Dessange\n",
      "Dessange\n",
      "Dessange\n",
      "Dessange,Lascad\n",
      "Dessange\n",
      "Dessange\n",
      "Dessange\n",
      "Dessange Paris,Dessange\n",
      "Dessange\n",
      "Dessange\n"
     ]
    },
    {
     "data": {
      "text/plain": [
       "15"
      ]
     },
     "execution_count": 316,
     "metadata": {},
     "output_type": "execute_result"
    }
   ],
   "source": [
    "#dessange\n",
    "b=[]\n",
    "for d in data:\n",
    "    if d[\"brands\"]==\"Dessange\" or d[\"brands\"].startswith('Dessange') or \"Dessange\" in d[\"brands\"] \\\n",
    "    or \"dessange\" in d[\"brands\"]:\n",
    "        d[\"logo\"]=\"dessange.png\"\n",
    "        print(d[\"brands\"])\n",
    "        b.append(1)\n",
    "sum(b)"
   ]
  },
  {
   "cell_type": "code",
   "execution_count": 319,
   "metadata": {
    "collapsed": false
   },
   "outputs": [
    {
     "name": "stdout",
     "output_type": "stream",
     "text": [
      "Dop\n",
      "Vivelle Dop,Lascad\n",
      "Dop\n",
      "Vivelle Dop\n",
      "Vivelle Dop,Vivelle\n",
      "P'tit Dop\n",
      "Dop\n",
      "Dop\n",
      "Dop\n",
      "Dop\n",
      "Dop\n",
      "Vivelle Dop,Dop,Lascad\n",
      "Dop\n",
      "Dop\n",
      "Dop\n",
      "Dop\n",
      "Dop\n",
      "Dop\n",
      "Dop\n",
      "Dop\n",
      "Dop\n",
      "Dop\n",
      "Dop\n",
      "Dop\n",
      "Dop\n",
      "Dop\n",
      "Dop\n",
      "Dop\n",
      "Dop\n",
      "Dop\n",
      "Dop\n",
      "Dop\n",
      "Dop\n",
      "Dop\n"
     ]
    },
    {
     "data": {
      "text/plain": [
       "34"
      ]
     },
     "execution_count": 319,
     "metadata": {},
     "output_type": "execute_result"
    }
   ],
   "source": [
    "#dop\n",
    "b=[]\n",
    "for d in data:\n",
    "    if d[\"brands\"]==\"Dop\" or d[\"brands\"].startswith('Dop') or \"Dop\" in d[\"brands\"] \\\n",
    "    or \"dop\" in d[\"brands\"]:\n",
    "        d[\"logo\"]=\"dop.png\"\n",
    "        print(d[\"brands\"])\n",
    "        b.append(1)\n",
    "sum(b)"
   ]
  },
  {
   "cell_type": "code",
   "execution_count": 321,
   "metadata": {
    "collapsed": false
   },
   "outputs": [
    {
     "name": "stdout",
     "output_type": "stream",
     "text": [
      "Dove,Unilever\n",
      "Dove\n",
      "Dove\n",
      "Dove Therapy,Dove\n",
      "Dove\n",
      "Dove\n",
      "Dove\n",
      "Dove\n",
      "Dove\n",
      "Dove,Unilever\n",
      "Dove\n",
      "Dove,Unilever\n",
      "Dove,Unilever\n",
      "Dove,Unilever\n",
      "Dove,Unilever\n",
      "Dove,Unilever\n",
      "Dove,Unilever\n",
      "Dove,Unilever\n",
      "Dove\n",
      "Dove\n",
      "Dove\n",
      "Dove\n",
      "Dove,Unilever\n",
      "Dove\n",
      "Dove\n",
      "Dove\n",
      "Dove\n",
      "Dove\n",
      "Dove\n",
      "Dove\n"
     ]
    },
    {
     "data": {
      "text/plain": [
       "30"
      ]
     },
     "execution_count": 321,
     "metadata": {},
     "output_type": "execute_result"
    }
   ],
   "source": [
    "#dove\n",
    "b=[]\n",
    "for d in data:\n",
    "    if d[\"brands\"]==\"Dove\" or d[\"brands\"].startswith('Dove') or \"Dove\" in d[\"brands\"] \\\n",
    "    or \"dove\" in d[\"brands\"]:\n",
    "        d[\"logo\"]=\"dove.png\"\n",
    "        print(d[\"brands\"])\n",
    "        b.append(1)\n",
    "sum(b)"
   ]
  },
  {
   "cell_type": "code",
   "execution_count": 326,
   "metadata": {
    "collapsed": false
   },
   "outputs": [
    {
     "name": "stdout",
     "output_type": "stream",
     "text": [
      "Fragonard\n",
      "Fragonard\n",
      "Fragonard\n",
      "Fragonard\n",
      "Fragonard\n",
      "Fragonard\n",
      "Fragonard\n",
      "Fragonard\n",
      "Fragonard\n",
      "Fragonard\n",
      "Fragonard\n",
      "Fragonard\n",
      "Fragonard\n",
      "Fragonard\n"
     ]
    },
    {
     "data": {
      "text/plain": [
       "14"
      ]
     },
     "execution_count": 326,
     "metadata": {},
     "output_type": "execute_result"
    }
   ],
   "source": [
    "#fragonard\n",
    "b=[]\n",
    "for d in data:\n",
    "    if d[\"brands\"]==\"Fragonard\" or d[\"brands\"].startswith('Fragonard') or \"Fragonard\" in d[\"brands\"] \\\n",
    "    or \"fragonard\" in d[\"brands\"]:\n",
    "        d[\"logo\"]=\"fragonard.png\"\n",
    "        print(d[\"brands\"])\n",
    "        b.append(1)\n",
    "sum(b)"
   ]
  },
  {
   "cell_type": "code",
   "execution_count": 328,
   "metadata": {
    "collapsed": false
   },
   "outputs": [
    {
     "name": "stdout",
     "output_type": "stream",
     "text": [
      "Garnier,Ultra Doux\n",
      "Garnier Ambre Solaire,Garnier\n",
      "Garnier,Ultra Doux\n",
      "Garnier,Ultra-Doux\n",
      "Garnier,Ultra-Doux\n",
      "Garnier,Ultra-Doux\n",
      "Garnier,Ultra doux\n",
      "Garnier,Ultra Doux\n",
      "Garnier,Garnier Body\n",
      "Garnier,Garnier Skin Naturals\n",
      "Garnier,Ultra-Doux\n",
      "Narta,Garnier,L'Oréal\n",
      "Garnier,Ultra Doux\n",
      "Garnier,Ultra-Doux\n",
      "Garnier,Ultra Doux\n",
      "Garnier\n",
      "Garnier,Ultra-Doux\n",
      "Ultra-Doux,Garnier\n",
      "Garnier,Belle Color\n",
      "Garnier,Ambre Solaire,Garnier Ambre Solaire\n",
      "Garnier,Ultra-Doux\n",
      "Garnier\n",
      "Garnier,Garnier Skin Naturals\n",
      "Garnier,Ultra-Doux\n",
      "Garnier,Ultra-Doux\n",
      "Garnier,Ultra doux\n",
      "Garnier,Neutralia\n",
      "Garnier,Neutralia\n",
      "Garnier,Fructis\n",
      "Garnier\n",
      "Garnier,Ultra-Doux\n",
      "Garnier,Ultra Doux\n",
      "Garnier,Ultra Doux\n",
      "Garnier,Ultra Doux\n",
      "Garnier,Ultra Doux\n",
      "Garnier,Ultra Doux\n",
      "Garnier,Ultra-Doux\n",
      "Garnier,Fructis\n",
      "Garnier,Fructis\n",
      "Garnier,Fructis\n",
      "Garnier,Fructis\n",
      "Garnier,Fructis\n",
      "Garnier,Fructis\n",
      "Garnier,Ultra-Doux\n",
      "Garnier,Ultra-Doux\n",
      "Garnier,Fructis\n",
      "Garnier,Fructis\n",
      "Garnier,Fructis\n",
      "Garnier,Fructis\n",
      "Garnier,Fructis\n",
      "Garnier,Fructis,Garnier Fructis\n",
      "Garnier,Fructis\n",
      "Garnier\n",
      "Garnier,Garnier Skin Naturals\n",
      "Garnier,Ultra doux\n",
      "Garnier,Ultra-Doux\n",
      "Garnier,Ultra Doux\n",
      "Garnier,Fructis\n",
      "Garnier,Ultra doux\n",
      "Garnier,Ultra Doux\n",
      "Garnier,Ultra Doux\n",
      "Garnier Body,Garnier\n",
      "Garnier,Ultra Doux\n",
      "Garnier,Fructis\n",
      "Garnier,Fructis\n",
      "Garnier,Ultra Doux\n",
      "Fructis,Garnier Fructis,Garnier\n",
      "Garnier,Fructis\n",
      "Garnier,Garnier Skin Naturals\n",
      "Garnier,Ambre Solaire\n",
      "Garnier,Fructis\n",
      "Garnier,Ultra Doux\n",
      "Garnier\n",
      "Garnier,L'Oreal\n",
      "Garnier,Ultra Doux\n",
      "Garnier,Ultra Doux\n",
      "Garnier,100% Ultra Color\n",
      "Garnier,Fructis\n",
      "Garnier SkinActive,Garnier\n",
      "Garnier SkinActive,Garnier\n",
      "Garnier,Ultra Doux\n",
      "Garnier,Ultra Doux\n",
      "Garnier,Fructis\n",
      "Garnier\n",
      "Garnier,Ultra Doux,L'Oreal\n",
      "Garnier,Ultra Doux\n"
     ]
    },
    {
     "data": {
      "text/plain": [
       "86"
      ]
     },
     "execution_count": 328,
     "metadata": {},
     "output_type": "execute_result"
    }
   ],
   "source": [
    "#garnier\n",
    "b=[]\n",
    "for d in data:\n",
    "    if d[\"brands\"]==\"Garnier\" or d[\"brands\"].startswith('Garnier') or \"Garnier\" in d[\"brands\"] \\\n",
    "    or \"garnier\" in d[\"brands\"]:\n",
    "        d[\"logo\"]=\"garnier.png\"\n",
    "        print(d[\"brands\"])\n",
    "        b.append(1)\n",
    "sum(b)"
   ]
  },
  {
   "cell_type": "code",
   "execution_count": 332,
   "metadata": {
    "collapsed": false
   },
   "outputs": [
    {
     "name": "stdout",
     "output_type": "stream",
     "text": [
      "Head & Shoulders\n",
      "Head & Shoulders\n",
      "Head & Shoulders\n",
      "Head & Shoulders\n",
      "Head & Shoulders\n",
      "Head & Shoulders\n",
      "Head & Shoulders\n",
      "Head & Shoulders\n",
      "Head & Shoulders\n",
      "Head & Shoulders\n",
      "Head & Shoulders\n",
      "Head & Shoulders\n",
      "Head & Shoulders\n",
      "Head & Shoulders\n",
      "Head & Shoulders\n",
      "Head & Shoulders\n",
      "Head & Shoulders\n",
      "Head & Shoulders,Procter & Gamble\n",
      "Head & Shoulders\n",
      "Head & Shoulders\n",
      "Head & Shoulders\n",
      "Head & Shoulders\n",
      "Head & Shoulders\n",
      "Head & Shoulders\n",
      "Head & Shoulders\n",
      "Head & Shoulders\n",
      "Head & Shoulders\n",
      "Head & Shoulders\n",
      "Head & Shoulders\n",
      "Head & Shoulders\n",
      "Head & Shoulders\n",
      "Head & Shoulders\n",
      "Head & Shoulders\n",
      "Head & Shoulders\n",
      "Head & Shoulders\n",
      "Head & Shoulders\n",
      "Head & shoulders\n",
      "Head & shoulders\n",
      "Head & Shoulders\n",
      "Head & Shoulders\n",
      "Head & Shoulders\n",
      "Head & Shoulders\n",
      "Head & Shoulders\n",
      "Head & Shoulders\n",
      "Head & Shoulders,Procter & Gamble\n",
      "Head & Shoulders,Procter & Gamble\n",
      "Head & Shoulders,Procter & Gamble\n",
      "head & shoulders\n",
      "Head & Shoulders,Procter & Gamble\n",
      "Head & Shoulders,Procter & Gamble\n",
      "Head & Shoulders,Procter & Gamble\n"
     ]
    },
    {
     "data": {
      "text/plain": [
       "51"
      ]
     },
     "execution_count": 332,
     "metadata": {},
     "output_type": "execute_result"
    }
   ],
   "source": [
    "#headandshoulders\n",
    "b=[]\n",
    "for d in data:\n",
    "    if d[\"brands\"]=='head & shoulders' or d[\"brands\"]=='Head & shoulders' or d[\"brands\"]=='Head & Shoulders' \\\n",
    "    or 'head & shoulders' in d[\"brands\"] or 'Head & shoulders' in d[\"brands\"] or 'Head & Shoulders' in d[\"brands\"]:\n",
    "        d[\"logo\"]=\"headandshoulders.png\"\n",
    "        print(d[\"brands\"])\n",
    "        b.append(1)\n",
    "sum(b)"
   ]
  },
  {
   "cell_type": "code",
   "execution_count": 342,
   "metadata": {
    "collapsed": false
   },
   "outputs": [
    {
     "data": {
      "text/plain": [
       "12"
      ]
     },
     "execution_count": 342,
     "metadata": {},
     "output_type": "execute_result"
    }
   ],
   "source": [
    "#larbrevert\n",
    "b=[]\n",
    "for d in data:\n",
    "    if d[\"brands\"]==\"L'Arbre Vert\" or d[\"brands\"].startswith(\"L'Arbre\") or d[\"brands\"].startswith(\"L'arbre\") or \\\n",
    "    d[\"brands\"].startswith(\"l ar\") or \"L'Arbre Vert\" in d[\"brands\"] or \"L'arbre\" in d[\"brands\"]:\n",
    "        d[\"logo\"]=\"larbrevert.png\"\n",
    "#         print(d[\"brands\"])\n",
    "        b.append(1)\n",
    "sum(b)"
   ]
  },
  {
   "cell_type": "code",
   "execution_count": null,
   "metadata": {
    "collapsed": false
   },
   "outputs": [],
   "source": [
    "#larocheposay\n",
    "b=[]\n",
    "for d in data:\n",
    "    if d[\"brands\"]=='La Roche-Posay':\n",
    "        d[\"logo\"]=\"larocheposay.png\"\n",
    "#         print(d)\n",
    "        b.append(1)\n",
    "sum(b)"
   ]
  },
  {
   "cell_type": "code",
   "execution_count": null,
   "metadata": {
    "collapsed": false
   },
   "outputs": [],
   "source": [
    "#leaderprice\n",
    "b=[]\n",
    "for d in data:\n",
    "    if d[\"brands\"]=='Leader Price':\n",
    "        d[\"logo\"]=\"leaderprice.png\"\n",
    "#         print(d)\n",
    "        b.append(1)\n",
    "sum(b)"
   ]
  },
  {
   "cell_type": "code",
   "execution_count": null,
   "metadata": {
    "collapsed": false
   },
   "outputs": [],
   "source": [
    "#lepetitemarseillais\n",
    "b=[]\n",
    "for d in data:\n",
    "    if d[\"brands\"]=='Le Petit Marseillais' or d[\"brands\"]=='Le Petit marseillais' or \\\n",
    "    d[\"brands\"]=='Le petit Marseillais' or d[\"brands\"]=='Le petit marseillais' or \\\n",
    "    d[\"brands\"].startswith('Le Petit M'):\n",
    "        d[\"logo\"]=\"lepetitemarseillais.png\"\n",
    "#         print(d[\"brands\"])\n",
    "        b.append(1)\n",
    "sum(b)"
   ]
  },
  {
   "cell_type": "code",
   "execution_count": null,
   "metadata": {
    "collapsed": false
   },
   "outputs": [],
   "source": [
    "#lepetitolivier\n",
    "b=[]\n",
    "for d in data:\n",
    "    if d[\"brands\"]=='Le Petit Olivier' or d[\"brands\"]=='Le Petit olivier' or \\\n",
    "    d[\"brands\"]=='Le petit Olivier' or d[\"brands\"]=='Le petit olivier' or \\\n",
    "    d[\"brands\"].startswith('Le Petit O'):\n",
    "        d[\"logo\"]=\"lepetitolivier.png\"\n",
    "#         print(d[\"brands\"])\n",
    "        b.append(1)\n",
    "sum(b)"
   ]
  },
  {
   "cell_type": "code",
   "execution_count": null,
   "metadata": {
    "collapsed": false
   },
   "outputs": [],
   "source": [
    "#lessavonsdorely\n",
    "b=[]\n",
    "for d in data:\n",
    "    if d[\"brands\"].startswith('Les Savons') or d[\"brands\"].startswith('les'):\n",
    "        d[\"logo\"]=\"lessavonsdorely.png\"\n",
    "        print(d[\"brands\"])\n",
    "        b.append(1)\n",
    "sum(b)"
   ]
  },
  {
   "cell_type": "code",
   "execution_count": null,
   "metadata": {
    "collapsed": false
   },
   "outputs": [],
   "source": [
    "#logona\n",
    "b=[]\n",
    "for d in data:\n",
    "    if d[\"brands\"]=='Logona' or d[\"brands\"].startswith('Logona') or \"logona\" in d[\"brands\"]:\n",
    "        d[\"logo\"]=\"logona.png\"\n",
    "        print(d[\"brands\"])\n",
    "        b.append(1)\n",
    "sum(b)"
   ]
  },
  {
   "cell_type": "code",
   "execution_count": null,
   "metadata": {
    "collapsed": false
   },
   "outputs": [],
   "source": [
    "# loreal\n",
    "b=[]\n",
    "for d in data:\n",
    "    if d[\"brands\"]==\"L'OREAL\" or d[\"brands\"].startswith('Loreal') or \"L'oreal\" in d[\"brands\"]:\n",
    "        d[\"logo\"]=\"loreal.png\"\n",
    "        print(d[\"brands\"])\n",
    "        b.append(1)\n",
    "sum(b)"
   ]
  },
  {
   "cell_type": "code",
   "execution_count": null,
   "metadata": {
    "collapsed": false
   },
   "outputs": [],
   "source": [
    "# manava\n",
    "b=[]\n",
    "for d in data:\n",
    "    if d[\"brands\"]==\"Manava\" or d[\"brands\"].startswith('Manava') or \"Manava\" in d[\"brands\"]:\n",
    "        d[\"logo\"]=\"manava.png\"\n",
    "        print(d[\"brands\"])\n",
    "        b.append(1)\n",
    "sum(b)"
   ]
  },
  {
   "cell_type": "code",
   "execution_count": null,
   "metadata": {
    "collapsed": false
   },
   "outputs": [],
   "source": [
    "# mennen\n",
    "b=[]\n",
    "for d in data:\n",
    "    if d[\"brands\"]==\"Mennen\" or d[\"brands\"].startswith('Mennen') or \"Mennen\" in d[\"brands\"]:\n",
    "        d[\"logo\"]=\"mennen.png\"\n",
    "        print(d[\"brands\"])\n",
    "        b.append(1)\n",
    "sum(b)"
   ]
  },
  {
   "cell_type": "code",
   "execution_count": null,
   "metadata": {
    "collapsed": false
   },
   "outputs": [],
   "source": [
    "#monoprix\n",
    "b=[]\n",
    "for d in data:\n",
    "    if d[\"brands\"]==\"Monoprix\" or d[\"brands\"].startswith('Monoprix') or \"monoprix\" in d[\"brands\"]:\n",
    "        d[\"logo\"]=\"monoprix.png\"\n",
    "        print(d[\"brands\"])\n",
    "        b.append(1)\n",
    "sum(b)"
   ]
  },
  {
   "cell_type": "code",
   "execution_count": null,
   "metadata": {
    "collapsed": false
   },
   "outputs": [],
   "source": [
    "#narta\n",
    "b=[]\n",
    "for d in data:\n",
    "    if d[\"brands\"]==\"Narta\" or d[\"brands\"].startswith('Narta') or \"Narta\" in d[\"brands\"]:\n",
    "        d[\"logo\"]=\"narta.png\"\n",
    "        print(d[\"brands\"])\n",
    "        b.append(1)\n",
    "sum(b)"
   ]
  },
  {
   "cell_type": "code",
   "execution_count": null,
   "metadata": {
    "collapsed": false
   },
   "outputs": [],
   "source": [
    "#nectarofbeauty\n",
    "b=[]\n",
    "for d in data:\n",
    "    if d[\"brands\"]==\"nectarofbeauty\" or d[\"brands\"].startswith('nectarofbeauty') or \"Nectar of beauty\" in d[\"brands\"] \\\n",
    "    or \"Nectar of Beauty\" in d[\"brands\"]:\n",
    "        d[\"logo\"]=\"nectarofbeauty.png\"\n",
    "        print(d[\"brands\"])\n",
    "        b.append(1)\n",
    "sum(b)"
   ]
  },
  {
   "cell_type": "code",
   "execution_count": null,
   "metadata": {
    "collapsed": false
   },
   "outputs": [],
   "source": [
    "#netto\n",
    "b=[]\n",
    "for d in data:\n",
    "    if d[\"brands\"]==\"Netto\" or d[\"brands\"].startswith('Netto') or \"Netto\" in d[\"brands\"]:\n",
    "        d[\"logo\"]=\"netto.png\"\n",
    "        print(d[\"brands\"])\n",
    "        b.append(1)\n",
    "sum(b)"
   ]
  },
  {
   "cell_type": "code",
   "execution_count": null,
   "metadata": {
    "collapsed": false
   },
   "outputs": [],
   "source": [
    "#neutrogena\n",
    "b=[]\n",
    "for d in data:\n",
    "    if d[\"brands\"]==\"Neutrogena\" or d[\"brands\"].startswith('Neutrogena') or \"Neutrogena\" in d[\"brands\"]:\n",
    "        d[\"logo\"]=\"neutrogena.png\"\n",
    "        print(d[\"brands\"])\n",
    "        b.append(1)\n",
    "sum(b)"
   ]
  },
  {
   "cell_type": "code",
   "execution_count": null,
   "metadata": {
    "collapsed": false
   },
   "outputs": [],
   "source": [
    "#nivea\n",
    "b=[]\n",
    "for d in data:\n",
    "    if d[\"brands\"]==\"Nivea\" or d[\"brands\"].startswith('Nivea') or \"Nivea\" in d[\"brands\"]:\n",
    "        d[\"logo\"]=\"nivea.png\"\n",
    "        print(d[\"brands\"])\n",
    "        b.append(1)\n",
    "sum(b)"
   ]
  },
  {
   "cell_type": "code",
   "execution_count": null,
   "metadata": {
    "collapsed": false
   },
   "outputs": [],
   "source": [
    "#palette\n",
    "b=[]\n",
    "for d in data:\n",
    "    if d[\"brands\"]==\"Palette\" or d[\"brands\"].startswith('Palette') or \"Palette\" in d[\"brands\"]:\n",
    "        d[\"logo\"]=\"palette.png\"\n",
    "        print(d[\"brands\"])\n",
    "        b.append(1)\n",
    "sum(b)"
   ]
  },
  {
   "cell_type": "code",
   "execution_count": null,
   "metadata": {
    "collapsed": false
   },
   "outputs": [],
   "source": [
    "#palmolive\n",
    "b=[]\n",
    "for d in data:\n",
    "    if d[\"brands\"]==\"Palmolive\" or d[\"brands\"].startswith('Palmolive') or \"Palmolive\" in d[\"brands\"]:\n",
    "        d[\"logo\"]=\"palmolive.png\"\n",
    "        print(d[\"brands\"])\n",
    "        b.append(1)\n",
    "sum(b)"
   ]
  },
  {
   "cell_type": "code",
   "execution_count": null,
   "metadata": {
    "collapsed": false
   },
   "outputs": [],
   "source": [
    "#petrolehahn\n",
    "b=[]\n",
    "for d in data:\n",
    "    if d[\"brands\"]==\"Petrole Hahn\" or d[\"brands\"].startswith('Petrole Hahn') or \"Petrole Hahn\" in d[\"brands\"]:\n",
    "        d[\"logo\"]=\"petrolehahn.png\"\n",
    "        print(d[\"brands\"])\n",
    "        b.append(1)\n",
    "sum(b)"
   ]
  },
  {
   "cell_type": "code",
   "execution_count": null,
   "metadata": {
    "collapsed": false,
    "scrolled": true
   },
   "outputs": [],
   "source": [
    "#sanex\n",
    "b=[]\n",
    "for d in data:\n",
    "    if d[\"brands\"]==\"Sanex\" or d[\"brands\"].startswith('Sanex') or \"Sanex\" in d[\"brands\"] or \"sanex\" in d[\"brands\"]:\n",
    "        d[\"logo\"]=\"sanex.png\"\n",
    "        print(d[\"brands\"])\n",
    "        b.append(1)\n",
    "sum(b)"
   ]
  },
  {
   "cell_type": "code",
   "execution_count": null,
   "metadata": {
    "collapsed": false
   },
   "outputs": [],
   "source": [
    "#schwarzkopf\n",
    "b=[]\n",
    "for d in data:\n",
    "    if d[\"brands\"]==\"Schwarzkopf\" or d[\"brands\"].startswith('Schwarzkopf') or \"Schwarzkopf\" in d[\"brands\"]\\\n",
    "    or \"schwarzkopf\" in d[\"brands\"]:\n",
    "        d[\"logo\"]=\"schwarzkopf.png\"\n",
    "        print(d[\"brands\"])\n",
    "        b.append(1)\n",
    "sum(b)"
   ]
  },
  {
   "cell_type": "code",
   "execution_count": null,
   "metadata": {
    "collapsed": false
   },
   "outputs": [],
   "source": [
    "#sephora\n",
    "b=[]\n",
    "for d in data:\n",
    "    if d[\"brands\"]==\"Sephora\" or d[\"brands\"].startswith('Sephora') or \"Sephora\" in d[\"brands\"]\\\n",
    "    or \"sephora\" in d[\"brands\"]:\n",
    "        d[\"logo\"]=\"sephora.png\"\n",
    "        print(d[\"brands\"])\n",
    "        b.append(1)\n",
    "sum(b)"
   ]
  },
  {
   "cell_type": "code",
   "execution_count": null,
   "metadata": {
    "collapsed": false
   },
   "outputs": [],
   "source": [
    "# signal\n",
    "b=[]\n",
    "for d in data:\n",
    "    if d[\"brands\"]==\"Signal\" or d[\"brands\"].startswith('Signal') or \"Signal\" in d[\"brands\"]\\\n",
    "    or \"signal\" in d[\"brands\"]:\n",
    "        d[\"logo\"]=\"signal.png\"\n",
    "        print(d[\"brands\"])\n",
    "        b.append(1)\n",
    "sum(b)"
   ]
  },
  {
   "cell_type": "code",
   "execution_count": null,
   "metadata": {
    "collapsed": false
   },
   "outputs": [],
   "source": [
    "#sobioetic\n",
    "b=[]\n",
    "for d in data:\n",
    "    if d[\"brands\"]==\"Sobioetic\" or d[\"brands\"].startswith('Sobioetic') or \"Sobioetic\" in d[\"brands\"]\\\n",
    "    or \"sobioetic\" in d[\"brands\"]:\n",
    "#         d[\"logo\"]=\"sobioetic.png\"\n",
    "        print(d[\"brands\"])\n",
    "        b.append(1)\n",
    "sum(b)"
   ]
  },
  {
   "cell_type": "code",
   "execution_count": null,
   "metadata": {
    "collapsed": false
   },
   "outputs": [],
   "source": [
    "#timotei\n",
    "b=[]\n",
    "for d in data:\n",
    "    if d[\"brands\"]==\"Timotei\" or d[\"brands\"].startswith('Timotei') or \"Timotei\" in d[\"brands\"]\\\n",
    "    or \"timotei\" in d[\"brands\"]:\n",
    "        d[\"logo\"]=\"timotei.png\"\n",
    "        print(d[\"brands\"])\n",
    "        b.append(1)\n",
    "sum(b)"
   ]
  },
  {
   "cell_type": "code",
   "execution_count": 258,
   "metadata": {
    "collapsed": false
   },
   "outputs": [
    {
     "name": "stdout",
     "output_type": "stream",
     "text": [
      "By U Homme,U\n",
      "By U Homme,U\n",
      "U,By U,By U Homme\n",
      "U\n",
      "U\n",
      "U\n",
      "U\n",
      "U,By U\n",
      "By U,Système U\n",
      "U,U Tout petits\n",
      "U\n",
      "U\n",
      "By U,Système U\n",
      "By U,Système U\n",
      "U\n",
      "U\n",
      "U\n",
      "By U,Système U\n",
      "U\n",
      "U,U tout petits\n",
      "U,U tout petits\n",
      "U\n",
      "U\n",
      "By U,Système U\n",
      "U\n"
     ]
    },
    {
     "data": {
      "text/plain": [
       "25"
      ]
     },
     "execution_count": 258,
     "metadata": {},
     "output_type": "execute_result"
    }
   ],
   "source": [
    "#u\n",
    "b=[]\n",
    "for d in data:\n",
    "    if d[\"brands\"]=='U' \\\n",
    "    or \" U \" in d[\"brands\"] or \"U,\" in d[\"brands\"] and len(d[\"brands\"])<16:\n",
    "        d[\"logo\"]=\"u.png\"\n",
    "        print(d[\"brands\"])\n",
    "        b.append(1)\n",
    "sum(b)"
   ]
  },
  {
   "cell_type": "code",
   "execution_count": 263,
   "metadata": {
    "collapsed": false
   },
   "outputs": [
    {
     "name": "stdout",
     "output_type": "stream",
     "text": [
      "Ushuaïa,Lascad\n",
      "Ushuaia\n",
      "Ushuaïa\n",
      "Ushuaia\n",
      "Ushuaïa\n",
      "Ushuaïa\n",
      "Ushuaïa\n",
      "Ushuaïa\n",
      "Ushuaïa\n",
      "Ushuaïa\n",
      "Ushuaïa\n",
      "Ushuaia\n",
      "Ushuaïa\n",
      "Ushuaïa\n",
      "Ushuaia,Lascad\n",
      "Ushuaïa\n",
      "Ushuaïa\n"
     ]
    },
    {
     "data": {
      "text/plain": [
       "17"
      ]
     },
     "execution_count": 263,
     "metadata": {},
     "output_type": "execute_result"
    }
   ],
   "source": [
    "#ushuaia\n",
    "b=[]\n",
    "for d in data:\n",
    "    if d[\"brands\"]==\"Ushuaia\" or d[\"brands\"].startswith('Ushuaia') or \"ushu\" in d[\"brands\"]\\\n",
    "    or \"Ushu\" in d[\"brands\"]:\n",
    "        d[\"logo\"]=\"ushuaia.png\"\n",
    "        print(d[\"brands\"])\n",
    "        b.append(1)\n",
    "sum(b)"
   ]
  },
  {
   "cell_type": "code",
   "execution_count": 265,
   "metadata": {
    "collapsed": false,
    "scrolled": true
   },
   "outputs": [
    {
     "name": "stdout",
     "output_type": "stream",
     "text": [
      "Weleda\n",
      "Weleda\n",
      "Weleda\n",
      "Weleda\n",
      "Weleda\n",
      "Weleda\n",
      "Weleda\n",
      "Weleda\n",
      "Weleda\n",
      "Weleda\n",
      "Weleda\n",
      "Weleda\n",
      "Weleda\n",
      "Weleda\n",
      "Weleda\n"
     ]
    },
    {
     "data": {
      "text/plain": [
       "15"
      ]
     },
     "execution_count": 265,
     "metadata": {},
     "output_type": "execute_result"
    }
   ],
   "source": [
    "#weleda\n",
    "b=[]\n",
    "for d in data:\n",
    "    if d[\"brands\"]==\"Weleda\" or d[\"brands\"].startswith('Weleda') or \"Weleda\" in d[\"brands\"]\\\n",
    "    or \"weleda\" in d[\"brands\"]:\n",
    "        d[\"logo\"]=\"weleda.png\"\n",
    "        print(d[\"brands\"])\n",
    "        b.append(1)\n",
    "sum(b)"
   ]
  },
  {
   "cell_type": "code",
   "execution_count": 273,
   "metadata": {
    "collapsed": false
   },
   "outputs": [
    {
     "name": "stdout",
     "output_type": "stream",
     "text": [
      "Yves Rocher\n",
      "Yves Rocher\n",
      "Yves Rocher\n",
      "Yves Rocher\n",
      "Yves Rocher\n",
      "Yves Rocher\n",
      "Yves Rocher\n",
      "Yves Rocher\n",
      "Yves Rocher\n",
      "Yves Rocher\n",
      "Yves Rocher\n",
      "Yves Rocher\n",
      "Yves Rocher\n",
      "Yves Rocher,Tradition de Hammam\n",
      "Yves Rocher\n",
      "Yves Rocher\n",
      "Yves Rocher\n",
      "Yves rocher\n",
      "Yves Rocher\n",
      "Yves Rocher\n",
      "Yves Rocher\n",
      "Yves Rocher\n",
      "Yves Rocher\n",
      "Yves Rocher\n",
      "Yves Rocher\n",
      "Yves Rocher\n",
      "Yves Rocher\n",
      "Yves Rocher\n",
      "Yves Rocher\n",
      "Yves Rocher\n",
      "Yves Rocher\n",
      "Yves Rocher,Secrets d'essences\n",
      "Yves Rocher,CollectOr\n",
      "Yves Rocher,Les Plaisirs Nature\n",
      "Yves Rocher\n",
      "Yves Rocher\n",
      "Yves Rocher,Luminelle\n",
      "Yves Rocher\n",
      "Yves Rocher\n",
      "Yves Rocher\n",
      "Yves Rocher\n",
      "Yves Rocher\n",
      "Yves Rocher\n",
      "Yves Rocher\n",
      "Yves Rocher,Couleurs Nature\n",
      "Yves Rocher,Zéro défaut\n",
      "Yves Rocher\n",
      "Yves rocher\n",
      "Yves Rocher\n"
     ]
    },
    {
     "data": {
      "text/plain": [
       "49"
      ]
     },
     "execution_count": 273,
     "metadata": {},
     "output_type": "execute_result"
    }
   ],
   "source": [
    "#yvesrocher\n",
    "b=[]\n",
    "for d in data:\n",
    "    if d[\"brands\"]==\"Yves Rocher\" or d[\"brands\"].startswith('Yves Rocher') or \"Yves Rocher\" in d[\"brands\"]\\\n",
    "    or \"Yves rocher\" in d[\"brands\"]:\n",
    "        d[\"logo\"]=\"yvesrocher.png\"\n",
    "        print(d[\"brands\"])\n",
    "        b.append(1)\n",
    "sum(b)"
   ]
  },
  {
   "cell_type": "code",
   "execution_count": 343,
   "metadata": {
    "collapsed": true
   },
   "outputs": [],
   "source": [
    "with open('data_with_similarity_scores_Younus.json', 'wb') as outfile:\n",
    "    json.dump(data, outfile)"
   ]
  },
  {
   "cell_type": "code",
   "execution_count": null,
   "metadata": {
    "collapsed": false
   },
   "outputs": [],
   "source": []
  }
 ],
 "metadata": {
  "kernelspec": {
   "display_name": "Python 2",
   "language": "python",
   "name": "python2"
  },
  "language_info": {
   "codemirror_mode": {
    "name": "ipython",
    "version": 2
   },
   "file_extension": ".py",
   "mimetype": "text/x-python",
   "name": "python",
   "nbconvert_exporter": "python",
   "pygments_lexer": "ipython2",
   "version": "2.7.13"
  }
 },
 "nbformat": 4,
 "nbformat_minor": 2
}
